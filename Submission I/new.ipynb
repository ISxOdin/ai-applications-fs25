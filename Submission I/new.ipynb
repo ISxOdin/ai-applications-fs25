{
 "cells": [
  {
   "cell_type": "code",
   "execution_count": 7,
   "metadata": {},
   "outputs": [
    {
     "name": "stdout",
     "output_type": "stream",
     "text": [
      "Running on local URL:  http://127.0.0.1:7870\n",
      "\n",
      "To create a public link, set `share=True` in `launch()`.\n"
     ]
    },
    {
     "data": {
      "text/html": [
       "<div><iframe src=\"http://127.0.0.1:7870/\" width=\"100%\" height=\"500\" allow=\"autoplay; camera; microphone; clipboard-read; clipboard-write;\" frameborder=\"0\" allowfullscreen></iframe></div>"
      ],
      "text/plain": [
       "<IPython.core.display.HTML object>"
      ]
     },
     "metadata": {},
     "output_type": "display_data"
    },
    {
     "data": {
      "text/plain": []
     },
     "execution_count": 7,
     "metadata": {},
     "output_type": "execute_result"
    },
    {
     "name": "stderr",
     "output_type": "stream",
     "text": [
      "c:\\Users\\ilias\\anaconda3\\lib\\site-packages\\sklearn\\base.py:450: UserWarning: X does not have valid feature names, but StandardScaler was fitted with feature names\n",
      "  warnings.warn(\n",
      "c:\\Users\\ilias\\anaconda3\\lib\\site-packages\\sklearn\\base.py:450: UserWarning: X does not have valid feature names, but StandardScaler was fitted with feature names\n",
      "  warnings.warn(\n",
      "c:\\Users\\ilias\\anaconda3\\lib\\site-packages\\sklearn\\base.py:450: UserWarning: X does not have valid feature names, but StandardScaler was fitted with feature names\n",
      "  warnings.warn(\n"
     ]
    }
   ],
   "source": [
    "import pandas as pd\n",
    "import numpy as np\n",
    "import pickle\n",
    "from sklearn.model_selection import train_test_split\n",
    "from sklearn.preprocessing import StandardScaler\n",
    "from sklearn.linear_model import LinearRegression\n",
    "import gradio as gr\n",
    "\n",
    "# Load dataset\n",
    "df = pd.read_csv('apartments_data_enriched_with_new_features.csv')\n",
    "\n",
    "# Preprocess data (adjusted column names)\n",
    "features = ['rooms', 'area', 'luxurious', 'zurich_city']  # Adjusted column names\n",
    "target = 'price'  # Adjusted target column name\n",
    "\n",
    "# Encode categorical features if needed\n",
    "df['luxurious'] = df['luxurious'].astype(int)\n",
    "df['zurich_city'] = df['zurich_city'].astype(int)\n",
    "\n",
    "# Splitting data\n",
    "X = df[features]\n",
    "y = df[target]\n",
    "X_train, X_test, y_train, y_test = train_test_split(X, y, test_size=0.2, random_state=42)\n",
    "\n",
    "# Scaling data\n",
    "scaler = StandardScaler()\n",
    "X_train_scaled = scaler.fit_transform(X_train)\n",
    "X_test_scaled = scaler.transform(X_test)\n",
    "\n",
    "# Train model\n",
    "model = LinearRegression()\n",
    "model.fit(X_train_scaled, y_train)\n",
    "\n",
    "# Save the trained model\n",
    "with open(\"trained_apartment_model.pkl\", \"wb\") as f:\n",
    "    pickle.dump((model, scaler), f)\n",
    "\n",
    "# Function for Gradio prediction\n",
    "def predict_price(address, num_rooms, area, luxurious, zurich_city):\n",
    "    with open(\"trained_apartment_model.pkl\", \"rb\") as f:\n",
    "        model, scaler = pickle.load(f)\n",
    "    \n",
    "    input_data = np.array([[num_rooms, area, int(luxurious), int(zurich_city)]])\n",
    "    input_data_scaled = scaler.transform(input_data)\n",
    "    predicted_price = model.predict(input_data_scaled)[0]\n",
    "    return f\"Estimated price for {address}: CHF {predicted_price:,.2f}\"\n",
    "\n",
    "# Create Gradio interface\n",
    "demo = gr.Interface(\n",
    "    fn=predict_price,\n",
    "    inputs=[\n",
    "        gr.Textbox(label=\"Address\"),\n",
    "        gr.Number(label=\"Number of rooms\"),\n",
    "        gr.Number(label=\"Area in m²\"),\n",
    "        gr.Checkbox(label=\"Luxurious\"),\n",
    "        gr.Checkbox(label=\"Zurich City\"),\n",
    "    ],\n",
    "    outputs=\"text\",\n",
    "    examples=[\n",
    "        [\"Zürcherstrasse 1, 8173 Neerach\", 3.5, 65, False, False],\n",
    "        [\"Badenerstrasse 123, 8004 Zürich\", 4, 98, False, True],\n",
    "        [\"Robert-Stephenson-Weg 47, 8004 Zürich\", 4.5, 148, False, True]\n",
    "    ],\n",
    "    title=\"Apartment Price Predictor\",\n",
    "    description=\"Predict the price of an apartment in Zurich based on its location and features.\",\n",
    "    article=\"Expected result for examples: 1850, 3491, 6820\"\n",
    "\n",
    ")\n",
    "\n",
    "demo.launch()\n"
   ]
  }
 ],
 "metadata": {
  "kernelspec": {
   "display_name": "base",
   "language": "python",
   "name": "python3"
  },
  "language_info": {
   "codemirror_mode": {
    "name": "ipython",
    "version": 3
   },
   "file_extension": ".py",
   "mimetype": "text/x-python",
   "name": "python",
   "nbconvert_exporter": "python",
   "pygments_lexer": "ipython3",
   "version": "3.9.13"
  }
 },
 "nbformat": 4,
 "nbformat_minor": 2
}
