{
 "cells": [
  {
   "cell_type": "code",
   "execution_count": 2,
   "metadata": {},
   "outputs": [
    {
     "name": "stdout",
     "output_type": "stream",
     "text": [
      "Running on local URL:  http://127.0.0.1:7870\n",
      "\n",
      "To create a public link, set `share=True` in `launch()`.\n"
     ]
    },
    {
     "data": {
      "text/html": [
       "<div><iframe src=\"http://127.0.0.1:7870/\" width=\"100%\" height=\"500\" allow=\"autoplay; camera; microphone; clipboard-read; clipboard-write;\" frameborder=\"0\" allowfullscreen></iframe></div>"
      ],
      "text/plain": [
       "<IPython.core.display.HTML object>"
      ]
     },
     "metadata": {},
     "output_type": "display_data"
    },
    {
     "data": {
      "text/plain": []
     },
     "execution_count": 2,
     "metadata": {},
     "output_type": "execute_result"
    },
    {
     "name": "stderr",
     "output_type": "stream",
     "text": [
      "c:\\Users\\ilias\\anaconda3\\lib\\site-packages\\sklearn\\base.py:450: UserWarning: X does not have valid feature names, but StandardScaler was fitted with feature names\n",
      "  warnings.warn(\n",
      "c:\\Users\\ilias\\anaconda3\\lib\\site-packages\\sklearn\\base.py:450: UserWarning: X does not have valid feature names, but StandardScaler was fitted with feature names\n",
      "  warnings.warn(\n"
     ]
    }
   ],
   "source": [
    "import pandas as pd\n",
    "import numpy as np\n",
    "import pickle\n",
    "import requests\n",
    "from geopy.distance import geodesic\n",
    "from sklearn.model_selection import train_test_split\n",
    "from sklearn.preprocessing import StandardScaler\n",
    "from sklearn.linear_model import LinearRegression\n",
    "import gradio as gr\n",
    "\n",
    "# Load dataset\n",
    "df = pd.read_csv('apartments_data_enriched_with_new_features.csv')\n",
    "\n",
    "# Load stops dataset\n",
    "stops_df = pd.read_csv('stops.csv', sep=',', encoding='utf-8')\n",
    "\n",
    "# Swiss geolocation API base URL\n",
    "BASE_URL = \"https://api3.geo.admin.ch/rest/services/api/SearchServer?\"\n",
    "\n",
    "# Function to get geolocation data\n",
    "def get_geolocation(address):\n",
    "    params = {\n",
    "        \"searchText\": address,\n",
    "        \"origins\": \"address\",\n",
    "        \"type\": \"locations\"\n",
    "    }\n",
    "    response = requests.get(BASE_URL, params=params)\n",
    "    \n",
    "    if response.status_code == 200:\n",
    "        data = response.json()\n",
    "        results = data.get(\"results\", [])\n",
    "        if results:\n",
    "            location = results[0][\"attrs\"]\n",
    "            return location.get(\"lat\"), location.get(\"lon\")\n",
    "    \n",
    "    return None, None  # Default values if no result\n",
    "\n",
    "# Function to find the closest stop\n",
    "def get_closest_stop(lat, lon):\n",
    "    if lat is None or lon is None:\n",
    "        return \"Unknown\"  # Default if geolocation fails\n",
    "    \n",
    "    # Compute distances to all stops\n",
    "    stops_df[\"distance\"] = stops_df.apply(lambda row: geodesic((lat, lon), (row[\"stop_lat\"], row[\"stop_lon\"])).meters, axis=1)\n",
    "    \n",
    "    # Find the nearest stop\n",
    "    closest_stop = stops_df.loc[stops_df[\"distance\"].idxmin(), \"stop_name\"]\n",
    "    return closest_stop\n",
    "\n",
    "# Preprocess data (adjusted column names)\n",
    "features = ['rooms', 'area', 'luxurious', 'zurich_city']  # Adjusted column names\n",
    "\n",
    "df['luxurious'] = df['luxurious'].astype(int)\n",
    "df['zurich_city'] = df['zurich_city'].astype(int)\n",
    "\n",
    "target = 'price'  # Adjusted target column name\n",
    "\n",
    "# Splitting data\n",
    "X = df[features]\n",
    "y = df[target]\n",
    "X_train, X_test, y_train, y_test = train_test_split(X, y, test_size=0.2, random_state=42)\n",
    "\n",
    "# Scaling data\n",
    "scaler = StandardScaler()\n",
    "X_train_scaled = scaler.fit_transform(X_train)\n",
    "X_test_scaled = scaler.transform(X_test)\n",
    "\n",
    "# Train model\n",
    "model = LinearRegression()\n",
    "model.fit(X_train_scaled, y_train)\n",
    "\n",
    "# Save the trained model\n",
    "with open(\"trained_apartment_model.pkl\", \"wb\") as f:\n",
    "    pickle.dump((model, scaler), f)\n",
    "\n",
    "# Function for Gradio prediction\n",
    "def predict_price(address, num_rooms, area, luxurious, zurich_city):\n",
    "    with open(\"trained_apartment_model.pkl\", \"rb\") as f:\n",
    "        model, scaler = pickle.load(f)\n",
    "    \n",
    "    # Get geolocation data\n",
    "    lat, lon = get_geolocation(address)\n",
    "    \n",
    "    # Get closest stop\n",
    "    closest_stop = get_closest_stop(lat, lon)\n",
    "    \n",
    "    # Prepare input features\n",
    "    input_data = np.array([[num_rooms, area, int(luxurious), int(zurich_city)]])\n",
    "    input_data_scaled = scaler.transform(input_data)\n",
    "    predicted_price = model.predict(input_data_scaled)[0]\n",
    "    \n",
    "    return f\"CHF {predicted_price:,.2f}\", closest_stop\n",
    "\n",
    "# Create Gradio interface\n",
    "demo = gr.Interface(\n",
    "    fn=predict_price,\n",
    "    inputs=[\n",
    "        gr.Textbox(label=\"Address\"),\n",
    "        gr.Number(label=\"Number of rooms\"),\n",
    "        gr.Number(label=\"Area in m²\"),\n",
    "        gr.Checkbox(label=\"Luxurious\"),\n",
    "        gr.Checkbox(label=\"Zurich City\"),\n",
    "    ],\n",
    "    outputs=[\n",
    "        gr.Textbox(label=\"Estimated Price\"),\n",
    "        gr.Textbox(label=\"Closest Stop\")\n",
    "    ],\n",
    "    examples=[\n",
    "        [\"Zürcherstrasse 1, 8173 Neerach\", 3.5, 65, False, False],\n",
    "        [\"Badenerstrasse 123, 8004 Zürich\", 4, 98, False, True],\n",
    "        [\"Robert-Stephenson-Weg 47, 8004 Zürich\", 4.5, 148, False, True]\n",
    "    ],\n",
    "    title=\"Apartment Price Predictor\",\n",
    "    description=\"Predict the price of an apartment in Zurich based on its location and features.\",\n",
    "    article=\"Expected result for examples: 1850, 3491, 6820\"\n",
    ")\n",
    "\n",
    "demo.launch()"
   ]
  }
 ],
 "metadata": {
  "kernelspec": {
   "display_name": "base",
   "language": "python",
   "name": "python3"
  },
  "language_info": {
   "codemirror_mode": {
    "name": "ipython",
    "version": 3
   },
   "file_extension": ".py",
   "mimetype": "text/x-python",
   "name": "python",
   "nbconvert_exporter": "python",
   "pygments_lexer": "ipython3",
   "version": "3.9.13"
  }
 },
 "nbformat": 4,
 "nbformat_minor": 2
}
